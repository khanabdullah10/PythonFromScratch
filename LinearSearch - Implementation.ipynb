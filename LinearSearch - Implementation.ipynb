{
 "cells": [
  {
   "cell_type": "code",
   "execution_count": 1,
   "id": "d759754e",
   "metadata": {},
   "outputs": [
    {
     "name": "stdout",
     "output_type": "stream",
     "text": [
      "Searching element is present at the index  7\n"
     ]
    }
   ],
   "source": [
    "#Search for an element \"15\" and if it is present in the array return the index of that element\n",
    "#If the searching element is not present than simply return -1\n",
    "\n",
    "def linearSearch(arr,x):\n",
    "    for i in range(len(arr)):\n",
    "        if arr[i]==x:\n",
    "            return i\n",
    "    return -1\n",
    "\n",
    "arr = [2,1,8,9,12,15,11,19]\n",
    "x = 19\n",
    "result = linearSearch(arr,x)\n",
    "print(\"Searching element is present at the index \",result)\n",
    "\n",
    "#Time complexity:O(n)\n",
    "#Space complexity:O(1)\n"
   ]
  },
  {
   "cell_type": "code",
   "execution_count": null,
   "id": "ea7185aa",
   "metadata": {},
   "outputs": [],
   "source": []
  }
 ],
 "metadata": {
  "kernelspec": {
   "display_name": "Python 3 (ipykernel)",
   "language": "python",
   "name": "python3"
  },
  "language_info": {
   "codemirror_mode": {
    "name": "ipython",
    "version": 3
   },
   "file_extension": ".py",
   "mimetype": "text/x-python",
   "name": "python",
   "nbconvert_exporter": "python",
   "pygments_lexer": "ipython3",
   "version": "3.11.5"
  }
 },
 "nbformat": 4,
 "nbformat_minor": 5
}
