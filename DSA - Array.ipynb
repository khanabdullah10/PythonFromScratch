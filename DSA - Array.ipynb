{
 "cells": [
  {
   "cell_type": "code",
   "execution_count": 3,
   "id": "07cfa9c2",
   "metadata": {},
   "outputs": [
    {
     "data": {
      "text/plain": [
       "8"
      ]
     },
     "execution_count": 3,
     "metadata": {},
     "output_type": "execute_result"
    }
   ],
   "source": [
    "arr = [2,1,8,9,12,15,11,19]\n",
    "len(arr)"
   ]
  },
  {
   "cell_type": "code",
   "execution_count": 4,
   "id": "844a043e",
   "metadata": {},
   "outputs": [
    {
     "data": {
      "text/plain": [
       "12"
      ]
     },
     "execution_count": 4,
     "metadata": {},
     "output_type": "execute_result"
    }
   ],
   "source": [
    "#Random access\n",
    "arr[4]"
   ]
  },
  {
   "cell_type": "code",
   "execution_count": 5,
   "id": "035c17b5",
   "metadata": {},
   "outputs": [
    {
     "name": "stdout",
     "output_type": "stream",
     "text": [
      "Searching element is present at the index  7\n"
     ]
    }
   ],
   "source": [
    "#Search for an element \"15\" and if it is present in the array return the index of that element\n",
    "#If the searching element is not present than simply return -1\n",
    "\n",
    "def linearSearch(arr,x):\n",
    "    for i in range(len(arr)):\n",
    "        if arr[i]==x:\n",
    "            return i\n",
    "    return -1\n",
    "\n",
    "arr = [2,1,8,9,12,15,11,19]\n",
    "x = 19\n",
    "result = linearSearch(arr,x)\n",
    "print(\"Searching element is present at the index \",result)\n",
    "\n",
    "#Time complexity:O(n)\n",
    "#Space complexity:O(1)\n"
   ]
  },
  {
   "cell_type": "code",
   "execution_count": 24,
   "id": "e23f8aef",
   "metadata": {},
   "outputs": [],
   "source": [
    "#Inserting an element inside an array by using python default func \n",
    "#.insert(index no.,object)"
   ]
  },
  {
   "cell_type": "code",
   "execution_count": 6,
   "id": "1b06846c",
   "metadata": {},
   "outputs": [
    {
     "data": {
      "text/plain": [
       "[2, 1, 8, 9, 12, 15, 11, 19]"
      ]
     },
     "execution_count": 6,
     "metadata": {},
     "output_type": "execute_result"
    }
   ],
   "source": [
    "arr"
   ]
  },
  {
   "cell_type": "code",
   "execution_count": 12,
   "id": "097f0dba",
   "metadata": {},
   "outputs": [],
   "source": [
    "arr.insert(0,1)"
   ]
  },
  {
   "cell_type": "code",
   "execution_count": 13,
   "id": "3c61b6a1",
   "metadata": {},
   "outputs": [
    {
     "data": {
      "text/plain": [
       "[1, 2, 1, 8, 9, 12, 15, 11, 19]"
      ]
     },
     "execution_count": 13,
     "metadata": {},
     "output_type": "execute_result"
    }
   ],
   "source": [
    "arr"
   ]
  },
  {
   "cell_type": "code",
   "execution_count": 9,
   "id": "a30607e3",
   "metadata": {},
   "outputs": [
    {
     "data": {
      "text/plain": [
       "9"
      ]
     },
     "execution_count": 9,
     "metadata": {},
     "output_type": "execute_result"
    }
   ],
   "source": [
    "len(arr)"
   ]
  },
  {
   "cell_type": "code",
   "execution_count": 14,
   "id": "761db25a",
   "metadata": {},
   "outputs": [],
   "source": [
    "#Removing an element from an Array\n",
    "arr.remove(1)"
   ]
  },
  {
   "cell_type": "code",
   "execution_count": 15,
   "id": "6d59cf93",
   "metadata": {},
   "outputs": [
    {
     "data": {
      "text/plain": [
       "[2, 1, 8, 9, 12, 15, 11, 19]"
      ]
     },
     "execution_count": 15,
     "metadata": {},
     "output_type": "execute_result"
    }
   ],
   "source": [
    "arr"
   ]
  },
  {
   "cell_type": "code",
   "execution_count": 24,
   "id": "9cf6460e",
   "metadata": {},
   "outputs": [
    {
     "data": {
      "text/plain": [
       "9"
      ]
     },
     "execution_count": 24,
     "metadata": {},
     "output_type": "execute_result"
    }
   ],
   "source": [
    "# Delete an element by providing their index number\n",
    "arr.pop(4)"
   ]
  },
  {
   "cell_type": "code",
   "execution_count": 25,
   "id": "bd8adf71",
   "metadata": {},
   "outputs": [
    {
     "data": {
      "text/plain": [
       "[19, 2, 1, 8, 12, 15, 11, 19]"
      ]
     },
     "execution_count": 25,
     "metadata": {},
     "output_type": "execute_result"
    }
   ],
   "source": [
    "arr"
   ]
  },
  {
   "cell_type": "code",
   "execution_count": 26,
   "id": "c272f596",
   "metadata": {},
   "outputs": [],
   "source": [
    "#Counting the occurence/frequency of an element inside an array\n",
    "arr.insert(0,19)"
   ]
  },
  {
   "cell_type": "code",
   "execution_count": 27,
   "id": "cf15f0d0",
   "metadata": {},
   "outputs": [
    {
     "data": {
      "text/plain": [
       "[19, 19, 2, 1, 8, 12, 15, 11, 19]"
      ]
     },
     "execution_count": 27,
     "metadata": {},
     "output_type": "execute_result"
    }
   ],
   "source": [
    "arr"
   ]
  },
  {
   "cell_type": "code",
   "execution_count": 28,
   "id": "5099de66",
   "metadata": {},
   "outputs": [
    {
     "data": {
      "text/plain": [
       "3"
      ]
     },
     "execution_count": 28,
     "metadata": {},
     "output_type": "execute_result"
    }
   ],
   "source": [
    "arr.count(19)"
   ]
  },
  {
   "cell_type": "code",
   "execution_count": 29,
   "id": "e805ce3b",
   "metadata": {},
   "outputs": [
    {
     "data": {
      "text/plain": [
       "19"
      ]
     },
     "execution_count": 29,
     "metadata": {},
     "output_type": "execute_result"
    }
   ],
   "source": [
    "arr.pop(1)"
   ]
  },
  {
   "cell_type": "code",
   "execution_count": 30,
   "id": "9d7d7163",
   "metadata": {},
   "outputs": [
    {
     "data": {
      "text/plain": [
       "[19, 2, 1, 8, 12, 15, 11, 19]"
      ]
     },
     "execution_count": 30,
     "metadata": {},
     "output_type": "execute_result"
    }
   ],
   "source": [
    "arr"
   ]
  },
  {
   "cell_type": "code",
   "execution_count": 31,
   "id": "80e0c669",
   "metadata": {},
   "outputs": [],
   "source": [
    "arr.remove(19)"
   ]
  },
  {
   "cell_type": "code",
   "execution_count": 32,
   "id": "b656cf00",
   "metadata": {},
   "outputs": [
    {
     "data": {
      "text/plain": [
       "[2, 1, 8, 12, 15, 11, 19]"
      ]
     },
     "execution_count": 32,
     "metadata": {},
     "output_type": "execute_result"
    }
   ],
   "source": [
    "arr"
   ]
  },
  {
   "cell_type": "code",
   "execution_count": 35,
   "id": "a32fc97a",
   "metadata": {},
   "outputs": [],
   "source": [
    "#Sort the array\n",
    "arr.sort()"
   ]
  },
  {
   "cell_type": "code",
   "execution_count": 34,
   "id": "afe7a5c8",
   "metadata": {},
   "outputs": [
    {
     "data": {
      "text/plain": [
       "[1, 2, 8, 11, 12, 15, 19]"
      ]
     },
     "execution_count": 34,
     "metadata": {},
     "output_type": "execute_result"
    }
   ],
   "source": [
    "arr"
   ]
  },
  {
   "cell_type": "code",
   "execution_count": 37,
   "id": "52a2074b",
   "metadata": {},
   "outputs": [
    {
     "data": {
      "text/plain": [
       "4"
      ]
     },
     "execution_count": 37,
     "metadata": {},
     "output_type": "execute_result"
    }
   ],
   "source": [
    "#To exetract the inedex of any given element\n",
    "arr.index(12)"
   ]
  },
  {
   "cell_type": "code",
   "execution_count": 38,
   "id": "a6197c21",
   "metadata": {},
   "outputs": [],
   "source": [
    "# T Extent the orignal array\n",
    "arr.extend([5,3,2,1])"
   ]
  },
  {
   "cell_type": "code",
   "execution_count": 39,
   "id": "35d21bf7",
   "metadata": {},
   "outputs": [
    {
     "data": {
      "text/plain": [
       "[1, 2, 8, 11, 12, 15, 19, 5, 3, 2, 1]"
      ]
     },
     "execution_count": 39,
     "metadata": {},
     "output_type": "execute_result"
    }
   ],
   "source": [
    "arr"
   ]
  },
  {
   "cell_type": "code",
   "execution_count": 41,
   "id": "1ffd93e0",
   "metadata": {},
   "outputs": [
    {
     "data": {
      "text/plain": [
       "[1, 1, 2, 2, 3, 5, 8, 11, 12, 15, 19]"
      ]
     },
     "execution_count": 41,
     "metadata": {},
     "output_type": "execute_result"
    }
   ],
   "source": [
    "arr.sort()\n",
    "arr"
   ]
  },
  {
   "cell_type": "code",
   "execution_count": null,
   "id": "96b4807d",
   "metadata": {},
   "outputs": [],
   "source": []
  }
 ],
 "metadata": {
  "kernelspec": {
   "display_name": "Python 3 (ipykernel)",
   "language": "python",
   "name": "python3"
  },
  "language_info": {
   "codemirror_mode": {
    "name": "ipython",
    "version": 3
   },
   "file_extension": ".py",
   "mimetype": "text/x-python",
   "name": "python",
   "nbconvert_exporter": "python",
   "pygments_lexer": "ipython3",
   "version": "3.11.5"
  }
 },
 "nbformat": 4,
 "nbformat_minor": 5
}
