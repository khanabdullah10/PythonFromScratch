{
 "cells": [
  {
   "cell_type": "code",
   "execution_count": 1,
   "id": "e105362d",
   "metadata": {},
   "outputs": [],
   "source": [
    "    dic ={\n",
    "        \"Khan Abdullah\":\"Human Being\",\n",
    "        \"Mobile\": \"Object\",\n",
    "        25:\"Employee Id\"\n",
    "    }"
   ]
  },
  {
   "cell_type": "code",
   "execution_count": 5,
   "id": "ccb86e03",
   "metadata": {},
   "outputs": [
    {
     "name": "stdout",
     "output_type": "stream",
     "text": [
      "Employee Id\n",
      "Human Being\n"
     ]
    }
   ],
   "source": [
    "print(dic[25])\n",
    "print(dic[\"Khan Abdullah\"])"
   ]
  },
  {
   "cell_type": "code",
   "execution_count": 6,
   "id": "a3ee4312",
   "metadata": {},
   "outputs": [
    {
     "name": "stdout",
     "output_type": "stream",
     "text": [
      "Employee Id\n"
     ]
    }
   ],
   "source": [
    "print(dic.get(25))"
   ]
  },
  {
   "cell_type": "code",
   "execution_count": 7,
   "id": "dfaa8ed3",
   "metadata": {},
   "outputs": [
    {
     "name": "stdout",
     "output_type": "stream",
     "text": [
      "dict_keys(['Khan Abdullah', 'Mobile', 25])\n"
     ]
    }
   ],
   "source": [
    "print(dic.keys())"
   ]
  },
  {
   "cell_type": "code",
   "execution_count": 8,
   "id": "65fd5b29",
   "metadata": {},
   "outputs": [
    {
     "name": "stdout",
     "output_type": "stream",
     "text": [
      "dict_values(['Human Being', 'Object', 'Employee Id'])\n"
     ]
    }
   ],
   "source": [
    "print(dic.values())"
   ]
  },
  {
   "cell_type": "code",
   "execution_count": 10,
   "id": "c1d0e549",
   "metadata": {},
   "outputs": [
    {
     "name": "stdout",
     "output_type": "stream",
     "text": [
      "Human Being\n",
      "Object\n",
      "Employee Id\n"
     ]
    }
   ],
   "source": [
    "for key in dic.keys():\n",
    "    print(dic[key])"
   ]
  },
  {
   "cell_type": "code",
   "execution_count": 14,
   "id": "4c943e65",
   "metadata": {},
   "outputs": [
    {
     "name": "stdout",
     "output_type": "stream",
     "text": [
      "The value corresponding to the key Khan Abdullah is Employee Id\n",
      "The value corresponding to the key Mobile is Employee Id\n",
      "The value corresponding to the key 25 is Employee Id\n"
     ]
    }
   ],
   "source": [
    "for key in dic.keys():\n",
    "    print(f\"The value corresponding to the key {key} is {dic[keys]}\")"
   ]
  },
  {
   "cell_type": "code",
   "execution_count": 15,
   "id": "1a0382bf",
   "metadata": {},
   "outputs": [
    {
     "name": "stdout",
     "output_type": "stream",
     "text": [
      "dict_items([('Khan Abdullah', 'Human Being'), ('Mobile', 'Object'), (25, 'Employee Id')])\n"
     ]
    }
   ],
   "source": [
    "print(dic.items())"
   ]
  },
  {
   "cell_type": "code",
   "execution_count": 17,
   "id": "80c0bed3",
   "metadata": {},
   "outputs": [
    {
     "name": "stdout",
     "output_type": "stream",
     "text": [
      "The  value corresponding to the key Khan Abdullah is Human Being\n",
      "The  value corresponding to the key Mobile is Object\n",
      "The  value corresponding to the key 25 is Employee Id\n"
     ]
    }
   ],
   "source": [
    "for key,value in dic.items():\n",
    "    print(f\"The  value corresponding to the key {key} is {value}\")"
   ]
  },
  {
   "cell_type": "code",
   "execution_count": 34,
   "id": "1875bbb4",
   "metadata": {},
   "outputs": [],
   "source": [
    "emp1 ={\"Amaan\":24,\"Abdullah\":25,\"Qasim\":26}"
   ]
  },
  {
   "cell_type": "code",
   "execution_count": 21,
   "id": "ec4b3fd2",
   "metadata": {},
   "outputs": [
    {
     "name": "stdout",
     "output_type": "stream",
     "text": [
      "{'Amaan': 24, 'Abdullah': 25, 'Qasim': 26}\n"
     ]
    }
   ],
   "source": [
    "print(emp1)"
   ]
  },
  {
   "cell_type": "code",
   "execution_count": 35,
   "id": "24bc63fb",
   "metadata": {},
   "outputs": [],
   "source": [
    "emp2 = {}"
   ]
  },
  {
   "cell_type": "code",
   "execution_count": 23,
   "id": "a8ea7d0d",
   "metadata": {},
   "outputs": [
    {
     "name": "stdout",
     "output_type": "stream",
     "text": [
      "{}\n"
     ]
    }
   ],
   "source": [
    "print(emp2)"
   ]
  },
  {
   "cell_type": "code",
   "execution_count": 36,
   "id": "8f8896fd",
   "metadata": {},
   "outputs": [],
   "source": [
    "emp2 = {\"Fuzail\":28,\"Chand\":65,\"Tayyab\": 34 }"
   ]
  },
  {
   "cell_type": "code",
   "execution_count": 38,
   "id": "4202b0ed",
   "metadata": {},
   "outputs": [],
   "source": [
    "emp1.update(emp2)"
   ]
  },
  {
   "cell_type": "code",
   "execution_count": 39,
   "id": "ae056fc0",
   "metadata": {},
   "outputs": [
    {
     "name": "stdout",
     "output_type": "stream",
     "text": [
      "{'Amaan': 24, 'Abdullah': 25, 'Qasim': 26, 'Fuzail': 28, 'Chand': 65, 'Tayyab': 34}\n"
     ]
    }
   ],
   "source": [
    "print(emp1)"
   ]
  },
  {
   "cell_type": "code",
   "execution_count": 50,
   "id": "bbe45c8d",
   "metadata": {},
   "outputs": [],
   "source": [
    "emp3 = emp1"
   ]
  },
  {
   "cell_type": "code",
   "execution_count": 28,
   "id": "f1acc197",
   "metadata": {},
   "outputs": [
    {
     "name": "stdout",
     "output_type": "stream",
     "text": [
      "{'Amaan': 24, 'Abdullah': 25, 'Qasim': 26, 'Fuzail': 28, 'Chand': 65, 'Tayyab': 34}\n"
     ]
    }
   ],
   "source": [
    "print(emp1)"
   ]
  },
  {
   "cell_type": "code",
   "execution_count": 29,
   "id": "43dfe1ac",
   "metadata": {},
   "outputs": [],
   "source": [
    "emp1.clear()"
   ]
  },
  {
   "cell_type": "code",
   "execution_count": 30,
   "id": "df8e0253",
   "metadata": {},
   "outputs": [
    {
     "name": "stdout",
     "output_type": "stream",
     "text": [
      "{}\n"
     ]
    }
   ],
   "source": [
    "print(emp1)"
   ]
  },
  {
   "cell_type": "code",
   "execution_count": 33,
   "id": "b5d0c479",
   "metadata": {},
   "outputs": [
    {
     "name": "stdout",
     "output_type": "stream",
     "text": [
      "{}\n"
     ]
    }
   ],
   "source": [
    "print(emp3)"
   ]
  },
  {
   "cell_type": "code",
   "execution_count": 40,
   "id": "2f3fbe31",
   "metadata": {},
   "outputs": [
    {
     "data": {
      "text/plain": [
       "('Tayyab', 34)"
      ]
     },
     "execution_count": 40,
     "metadata": {},
     "output_type": "execute_result"
    }
   ],
   "source": [
    "emp1.popitem()"
   ]
  },
  {
   "cell_type": "code",
   "execution_count": 41,
   "id": "b2fb645e",
   "metadata": {},
   "outputs": [
    {
     "data": {
      "text/plain": [
       "{'Amaan': 24, 'Abdullah': 25, 'Qasim': 26, 'Fuzail': 28, 'Chand': 65}"
      ]
     },
     "execution_count": 41,
     "metadata": {},
     "output_type": "execute_result"
    }
   ],
   "source": [
    "emp1"
   ]
  },
  {
   "cell_type": "code",
   "execution_count": 43,
   "id": "d47f7655",
   "metadata": {},
   "outputs": [
    {
     "data": {
      "text/plain": [
       "65"
      ]
     },
     "execution_count": 43,
     "metadata": {},
     "output_type": "execute_result"
    }
   ],
   "source": [
    "emp1.pop(\"Chand\")"
   ]
  },
  {
   "cell_type": "code",
   "execution_count": 44,
   "id": "cc71dd4c",
   "metadata": {},
   "outputs": [
    {
     "data": {
      "text/plain": [
       "{'Amaan': 24, 'Abdullah': 25, 'Qasim': 26, 'Fuzail': 28}"
      ]
     },
     "execution_count": 44,
     "metadata": {},
     "output_type": "execute_result"
    }
   ],
   "source": [
    "emp1"
   ]
  },
  {
   "cell_type": "code",
   "execution_count": 51,
   "id": "607f4aeb",
   "metadata": {},
   "outputs": [
    {
     "data": {
      "text/plain": [
       "{'Amaan': 24, 'Abdullah': 25, 'Qasim': 26, 'Fuzail': 28}"
      ]
     },
     "execution_count": 51,
     "metadata": {},
     "output_type": "execute_result"
    }
   ],
   "source": [
    "emp3"
   ]
  },
  {
   "cell_type": "code",
   "execution_count": 53,
   "id": "a54cd3fd",
   "metadata": {},
   "outputs": [],
   "source": [
    "del emp3"
   ]
  },
  {
   "cell_type": "code",
   "execution_count": 54,
   "id": "4184e15d",
   "metadata": {},
   "outputs": [
    {
     "ename": "NameError",
     "evalue": "name 'emp3' is not defined",
     "output_type": "error",
     "traceback": [
      "\u001b[1;31m---------------------------------------------------------------------------\u001b[0m",
      "\u001b[1;31mNameError\u001b[0m                                 Traceback (most recent call last)",
      "Cell \u001b[1;32mIn[54], line 1\u001b[0m\n\u001b[1;32m----> 1\u001b[0m emp3\n",
      "\u001b[1;31mNameError\u001b[0m: name 'emp3' is not defined"
     ]
    }
   ],
   "source": [
    "emp3"
   ]
  },
  {
   "cell_type": "code",
   "execution_count": null,
   "id": "264daa52",
   "metadata": {},
   "outputs": [],
   "source": []
  }
 ],
 "metadata": {
  "kernelspec": {
   "display_name": "Python 3 (ipykernel)",
   "language": "python",
   "name": "python3"
  },
  "language_info": {
   "codemirror_mode": {
    "name": "ipython",
    "version": 3
   },
   "file_extension": ".py",
   "mimetype": "text/x-python",
   "name": "python",
   "nbconvert_exporter": "python",
   "pygments_lexer": "ipython3",
   "version": "3.11.5"
  }
 },
 "nbformat": 4,
 "nbformat_minor": 5
}
