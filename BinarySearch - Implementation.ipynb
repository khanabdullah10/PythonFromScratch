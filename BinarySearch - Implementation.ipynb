{
 "cells": [
  {
   "cell_type": "code",
   "execution_count": 17,
   "id": "82c3d1a2",
   "metadata": {},
   "outputs": [
    {
     "name": "stdout",
     "output_type": "stream",
     "text": [
      "Searching  element is present at the index 4\n"
     ]
    }
   ],
   "source": [
    "# Implementation of Binary Search\n",
    "# Function Defination\n",
    "def BinarySearch(arr,i,j,x):\n",
    "    while i < j :\n",
    "        mid = (i+j)//2 #/ mid i + (j-i)//2\n",
    "        if arr[mid] == x:\n",
    "            return  mid\n",
    "        elif arr[mid] < x:\n",
    "            return BinarySearch(arr,mid+1,j,x)\n",
    "        else:\n",
    "            return BinarySearch(arr,i,mid-1,x)\n",
    "    return -1 \n",
    "\n",
    "# Driver Code\n",
    "# Sorted Array\n",
    "arr = [2,5,10,14,18,22,27,35,40,59]\n",
    "x = 18\n",
    "i = 0\n",
    "j = len(arr)-1\n",
    "\n",
    "# Function call \n",
    "result = BinarySearch(arr,i,j,x)\n",
    "\n",
    "print(\"Searching  element is present at the index\", result)\n",
    "#Time complexity:O(log₂n)\n",
    "#Space complexity:O(1)"
   ]
  },
  {
   "cell_type": "code",
   "execution_count": null,
   "id": "50e54c45",
   "metadata": {},
   "outputs": [],
   "source": [
    "\n",
    "         \n",
    "        "
   ]
  },
  {
   "cell_type": "code",
   "execution_count": null,
   "id": "b752aa75",
   "metadata": {},
   "outputs": [],
   "source": []
  },
  {
   "cell_type": "code",
   "execution_count": null,
   "id": "4ab6df1b",
   "metadata": {},
   "outputs": [],
   "source": []
  },
  {
   "cell_type": "code",
   "execution_count": null,
   "id": "42d37552",
   "metadata": {},
   "outputs": [],
   "source": []
  },
  {
   "cell_type": "code",
   "execution_count": null,
   "id": "4c6f7755",
   "metadata": {},
   "outputs": [],
   "source": []
  },
  {
   "cell_type": "code",
   "execution_count": null,
   "id": "901ca0a2",
   "metadata": {},
   "outputs": [],
   "source": []
  }
 ],
 "metadata": {
  "kernelspec": {
   "display_name": "Python 3 (ipykernel)",
   "language": "python",
   "name": "python3"
  },
  "language_info": {
   "codemirror_mode": {
    "name": "ipython",
    "version": 3
   },
   "file_extension": ".py",
   "mimetype": "text/x-python",
   "name": "python",
   "nbconvert_exporter": "python",
   "pygments_lexer": "ipython3",
   "version": "3.11.5"
  }
 },
 "nbformat": 4,
 "nbformat_minor": 5
}
