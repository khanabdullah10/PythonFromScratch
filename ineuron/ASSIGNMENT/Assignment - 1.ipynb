{
 "cells": [
  {
   "cell_type": "code",
   "execution_count": null,
   "id": "4cbf58fe",
   "metadata": {},
   "outputs": [],
   "source": [
    "1. In the below elements which of them are values or an expression? eg:- values can be\n",
    "integer or string and expressions will be mathematical operators.\n",
    "*\n",
    "'hello'\n",
    "-87.8\n",
    "-\n",
    "/\n",
    "+\n",
    "6\n",
    "\n",
    "Ans: (a)Values -'hello'(String)\n",
    "               - -87.98(Float)\n",
    "               - 6(Integer)\n",
    "      (b)Expressions - *,-,/,+ "
   ]
  },
  {
   "cell_type": "code",
   "execution_count": null,
   "id": "5730d4c7",
   "metadata": {},
   "outputs": [],
   "source": [
    "2. What is the difference between string and variable?\n",
    "\n",
    "Ans: A string is a type of data that represents text, typically enclosed within quotation marks (single or double).\n",
    "    It could be a single character or a sequence of characters. For example, \"hello\" or 'abc123' are strings.\n",
    "    A variable, on the other hand, is a named placeholder for storing data. It can hold various types of data, including strings. \n",
    "    Variables are like containers that can store different values, and these values can change during the execution of a program.\n",
    "    You can think of a variable as a label or a name that represents a location in memory where data can be stored.\n",
    "    In programming, you can assign a string (or any other type of data) to a variable. For instance, in Python:\n",
    "```python\n",
    "my_string = \"hello\"\n",
    "```\n",
    "Here, `my_string` is a variable that holds the value \"hello\", which is a string. \n",
    "Variables provide a way to work with and manipulate different types of data throughout a program."
   ]
  },
  {
   "cell_type": "code",
   "execution_count": null,
   "id": "6209a7d3",
   "metadata": {},
   "outputs": [],
   "source": [
    "3. Describe three different data types.\n",
    "\n",
    "Ans: 1. Integer (int): Integers represent whole numbers, positive or negative, without any decimal points. \n",
    "        They can range from negative infinity to positive infinity. In many programming languages, integers have a specific size \n",
    "        (e.g., 32-bit or 64-bit integers) depending on the platform. \n",
    "        Examples of integers include -5, 0, 42, 100, etc.\n",
    "    2. Floating-Point Number (float): Floating-point numbers represent real numbers and include a decimal point. \n",
    "        They can represent fractional values as well as very large or very small numbers. \n",
    "        Floating-point numbers adhere to the IEEE 754 standard for floating-point arithmetic. \n",
    "        Examples include -3.14, 0.5, 2.71828, etc.\n",
    "    3. String (str): Strings are sequences of characters, typically used to represent text. \n",
    "        They are enclosed in single (' ') or double (\" \") quotation marks, depending on the programming language. \n",
    "        Strings can contain letters, numbers, symbols, and whitespace. \n",
    "        Examples of strings are \"hello\", 'example', \"123\", etc."
   ]
  },
  {
   "cell_type": "code",
   "execution_count": null,
   "id": "8148108d",
   "metadata": {},
   "outputs": [],
   "source": [
    "4. What is an expression made up of? What do all expressions do?\n",
    "\n",
    "Ans: An expression is made up of one or more operands combined with operators. \n",
    "    Operands can be values, variables, function calls, or more complex expressions, \n",
    "    while operators are symbols that perform operations on the operands.\n",
    "    Expressions are used to compute or evaluate a value. \n",
    "    They can involve arithmetic operations (like addition, subtraction, multiplication, division), \n",
    "    comparisons (such as equal to, greater than, less than), logical operations (AND, OR), and more, \n",
    "    depending on the programming language.\n",
    "\n",
    "    All expressions, when evaluated, result in a single value. \n",
    "    This value can be of various types depending on the nature of the expression and the types of operands involved. \n",
    "    Expressions are the building blocks of programming logic and are used extensively in algorithms, calculations, \n",
    "    conditional statements, and assignments within programs. \n",
    "    They represent computations or actions to be carried out by the program."
   ]
  },
  {
   "cell_type": "code",
   "execution_count": null,
   "id": "38e947f1",
   "metadata": {},
   "outputs": [],
   "source": [
    "5. This assignment statements, like spam = 10. What is the difference between an\n",
    "   expression and a statement?\n",
    "    \n",
    "Ans: An expression is a combination of values, variables, operators, and function calls that evaluates to a single value. \n",
    "    It can be a part of a statement but doesn't necessarily change a program's state by itself. For instance,\n",
    "    `5 + 3` is an expression that evaluates to `8`.\n",
    "     A statement, on the other hand, is a complete line of code that performs some action. \n",
    "    It can contain expressions, but it can also be a whole command that doesn't necessarily produce a value. \n",
    "    Statements are the building blocks of a program and can change the program's state or perform an action. \n",
    "    In the assignment statement `spam = 10`, it's a statement because it's an instruction that assigns the value `10` \n",
    "    to the variable `spam`. \n",
    "    While the right side (`10`) is an expression (a value), the entire line is a statement because it's an actionable\n",
    "    instruction in the code.\n",
    "\n",
    "    In essence:\n",
    "    - Expressions produce values.\n",
    "    - Statements are lines of code that perform actions or operations and can contain expressions."
   ]
  },
  {
   "cell_type": "code",
   "execution_count": null,
   "id": "a8b3d180",
   "metadata": {},
   "outputs": [],
   "source": [
    "6. After running the following code, what does the variable bacon contain?\n",
    "bacon = 22\n",
    "bacon + 1"
   ]
  },
  {
   "cell_type": "code",
   "execution_count": 4,
   "id": "341686dc",
   "metadata": {},
   "outputs": [],
   "source": [
    "bacon = 22"
   ]
  },
  {
   "cell_type": "code",
   "execution_count": 2,
   "id": "6e13e218",
   "metadata": {},
   "outputs": [
    {
     "data": {
      "text/plain": [
       "23"
      ]
     },
     "execution_count": 2,
     "metadata": {},
     "output_type": "execute_result"
    }
   ],
   "source": [
    "bacon + 1"
   ]
  },
  {
   "cell_type": "code",
   "execution_count": 3,
   "id": "aa9bf155",
   "metadata": {},
   "outputs": [
    {
     "data": {
      "text/plain": [
       "22"
      ]
     },
     "execution_count": 3,
     "metadata": {},
     "output_type": "execute_result"
    }
   ],
   "source": [
    "bacon"
   ]
  },
  {
   "cell_type": "code",
   "execution_count": null,
   "id": "9236aa2f",
   "metadata": {},
   "outputs": [],
   "source": [
    "Ans : After running the following code the variable bacon contain 22\n",
    "      because we haven't update the value of bacon after performing the opertaion \"bacon + 1\""
   ]
  },
  {
   "cell_type": "code",
   "execution_count": null,
   "id": "795d68eb",
   "metadata": {},
   "outputs": [],
   "source": [
    "7. What should the values of the following two terms be?\n",
    "'spam' + 'spam'\n",
    "'spam' * 3"
   ]
  },
  {
   "cell_type": "code",
   "execution_count": 6,
   "id": "c47937c2",
   "metadata": {},
   "outputs": [
    {
     "data": {
      "text/plain": [
       "'spamspam'"
      ]
     },
     "execution_count": 6,
     "metadata": {},
     "output_type": "execute_result"
    }
   ],
   "source": [
    "# String concatenation\n",
    "'spam' + 'spam'"
   ]
  },
  {
   "cell_type": "code",
   "execution_count": 7,
   "id": "d8d3e359",
   "metadata": {},
   "outputs": [
    {
     "data": {
      "text/plain": [
       "'spamspamspam'"
      ]
     },
     "execution_count": 7,
     "metadata": {},
     "output_type": "execute_result"
    }
   ],
   "source": [
    "# String repeating\n",
    "'spam' * 3"
   ]
  },
  {
   "cell_type": "code",
   "execution_count": null,
   "id": "8423bd36",
   "metadata": {},
   "outputs": [],
   "source": [
    "8. Why is eggs a valid variable name while 100 is invalid?\n",
    "\n",
    "Ans: In many programming languages, including Python, variable names have certain rules and conventions:\n",
    "- A variable name typically cannot start with a digit. That's why `100` is an invalid variable name in Python.\n",
    "- However, variable names can contain digits after the first character. For example, `eggs123` is a valid variable name \n",
    "because it starts with a letter (`e`) and can contain digits after that initial character.\n",
    "\n",
    "So, `eggs` is a valid variable name because it starts with a letter, adhering to the naming convention for variables, \n",
    "whereas `100` starts with a digit, violating that convention."
   ]
  },
  {
   "cell_type": "code",
   "execution_count": null,
   "id": "ea797275",
   "metadata": {},
   "outputs": [],
   "source": [
    "9. What three functions can be used to get the integer, floating-point number, or string\n",
    "version of a value?\n",
    "\n",
    "Ans: int()\n",
    "     str()\n",
    "    float()"
   ]
  },
  {
   "cell_type": "code",
   "execution_count": 8,
   "id": "edd35e22",
   "metadata": {},
   "outputs": [],
   "source": [
    "#Ex\n",
    "number = 10.5\n",
    "integer_number = int(number)"
   ]
  },
  {
   "cell_type": "code",
   "execution_count": 9,
   "id": "4fead897",
   "metadata": {},
   "outputs": [
    {
     "data": {
      "text/plain": [
       "10.5"
      ]
     },
     "execution_count": 9,
     "metadata": {},
     "output_type": "execute_result"
    }
   ],
   "source": [
    "number"
   ]
  },
  {
   "cell_type": "code",
   "execution_count": 11,
   "id": "db153a83",
   "metadata": {},
   "outputs": [
    {
     "data": {
      "text/plain": [
       "10"
      ]
     },
     "execution_count": 11,
     "metadata": {},
     "output_type": "execute_result"
    }
   ],
   "source": [
    "integer_number"
   ]
  },
  {
   "cell_type": "code",
   "execution_count": null,
   "id": "580aecaf",
   "metadata": {},
   "outputs": [],
   "source": [
    "10. Why does this expression cause an error? How can you fix it?\n",
    "'I have eaten' + 99 + 'burritos.'"
   ]
  },
  {
   "cell_type": "code",
   "execution_count": 12,
   "id": "69bfe530",
   "metadata": {},
   "outputs": [
    {
     "ename": "TypeError",
     "evalue": "can only concatenate str (not \"int\") to str",
     "output_type": "error",
     "traceback": [
      "\u001b[1;31m---------------------------------------------------------------------------\u001b[0m",
      "\u001b[1;31mTypeError\u001b[0m                                 Traceback (most recent call last)",
      "Cell \u001b[1;32mIn[12], line 1\u001b[0m\n\u001b[1;32m----> 1\u001b[0m \u001b[38;5;124m'\u001b[39m\u001b[38;5;124mI have eaten\u001b[39m\u001b[38;5;124m'\u001b[39m \u001b[38;5;241m+\u001b[39m \u001b[38;5;241m99\u001b[39m \u001b[38;5;241m+\u001b[39m \u001b[38;5;124m'\u001b[39m\u001b[38;5;124mburritos.\u001b[39m\u001b[38;5;124m'\u001b[39m\n",
      "\u001b[1;31mTypeError\u001b[0m: can only concatenate str (not \"int\") to str"
     ]
    }
   ],
   "source": [
    "'I have eaten' + 99 + 'burritos.'"
   ]
  },
  {
   "cell_type": "code",
   "execution_count": null,
   "id": "820da246",
   "metadata": {},
   "outputs": [],
   "source": [
    "Ans: The error occurs because you're trying to concatenate a string ('I have eaten') with an integer (99) \n",
    "    without explicitly converting the integer to a string. In many programming languages, you can't directly \n",
    "    concatenate different data types without conversion.\n",
    "\n",
    "To fix this, you need to convert the integer to a string before concatenation. Here's a way to do it:"
   ]
  },
  {
   "cell_type": "code",
   "execution_count": 13,
   "id": "e05880a6",
   "metadata": {},
   "outputs": [
    {
     "data": {
      "text/plain": [
       "'I have eaten99burritos.'"
      ]
     },
     "execution_count": 13,
     "metadata": {},
     "output_type": "execute_result"
    }
   ],
   "source": [
    "'I have eaten' + str(99) + 'burritos.'"
   ]
  },
  {
   "cell_type": "code",
   "execution_count": null,
   "id": "b5a13b10",
   "metadata": {},
   "outputs": [],
   "source": []
  }
 ],
 "metadata": {
  "kernelspec": {
   "display_name": "Python 3 (ipykernel)",
   "language": "python",
   "name": "python3"
  },
  "language_info": {
   "codemirror_mode": {
    "name": "ipython",
    "version": 3
   },
   "file_extension": ".py",
   "mimetype": "text/x-python",
   "name": "python",
   "nbconvert_exporter": "python",
   "pygments_lexer": "ipython3",
   "version": "3.11.5"
  }
 },
 "nbformat": 4,
 "nbformat_minor": 5
}
