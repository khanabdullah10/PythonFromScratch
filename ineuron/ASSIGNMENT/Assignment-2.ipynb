{
 "cells": [
  {
   "cell_type": "code",
   "execution_count": null,
   "id": "e67a73ac",
   "metadata": {},
   "outputs": [],
   "source": [
    "1.What are the two values of the Boolean data type? How do you write them?\n",
    "\n",
    "Ans:    The Boolean data type has two values: true(1) and false(0). \n",
    "        These values represent the two possible states of logical truth in many programming languages. \n",
    "        They are written exactly as shown, typically in lowercase, \n",
    "        though some languages may have variations in their representation (e.g., True and False in Python)."
   ]
  },
  {
   "cell_type": "code",
   "execution_count": null,
   "id": "200b3207",
   "metadata": {},
   "outputs": [],
   "source": [
    "2. What are the three different types of Boolean operators?\n",
    "\n",
    "Ans: 1. AND (and): This operator returns True if both operands are True, otherwise, it returns False.\n",
    "     2. OR (or): The or operator returns True if at least one of the operands is True. If both operands are False, it returns False.\n",
    "     3.NOT (not): This operator is a unary operator that reverses the logical state of its operand. \n",
    "      If the operand is True, not returns False. If the operand is False, not returns True."
   ]
  },
  {
   "cell_type": "code",
   "execution_count": null,
   "id": "0056e0f3",
   "metadata": {},
   "outputs": [],
   "source": [
    "3. Make a list of each Boolean operator's truth tables (i.e. every possible combination of Boolean\n",
    "   values for the operator and what it evaluate ).\n",
    "\n",
    "Ans:\n",
    "   1. AND Operator (and)\n",
    "    Operand 1\tOperand 2\tResult\n",
    "       false\tfalse\tfalse\n",
    "       false\ttrue\tfalse\n",
    "       true\tfalse\tfalse\n",
    "       true\ttrue\ttrue\n",
    "\n",
    "    2.OR Operator (or)\n",
    "    Operand 1\tOperand 2\tResult\n",
    "    false\tfalse\tfalse\n",
    "    false\ttrue\ttrue\n",
    "    true\tfalse\ttrue\n",
    "    true\ttrue\ttrue\n",
    "\n",
    "    3.NOT Operator (not)\n",
    "     Operand\tResult\n",
    "        false\ttrue\n",
    "        true\tfalse"
   ]
  },
  {
   "cell_type": "code",
   "execution_count": null,
   "id": "cdf49f99",
   "metadata": {},
   "outputs": [],
   "source": [
    "4.  What are the values of the following expressions?\n",
    "(5 > 4) and (3 == 5) f\n",
    "not (5 > 4)f\n",
    "(5 > 4) or (3 == 5) t\n",
    "not ((5 > 4) or (3 == 5))f\n",
    "(True and True) and (True == False)f\n",
    "(not False) or (not True) t\n",
    "\n",
    "Ans:\n",
    "    false\n",
    "    false\n",
    "    true\n",
    "    false\n",
    "    false\n",
    "    true\n",
    "    "
   ]
  },
  {
   "cell_type": "code",
   "execution_count": null,
   "id": "4a413b35",
   "metadata": {},
   "outputs": [],
   "source": [
    "5. What are the six comparison operators?\n",
    "\n",
    "Ans: Equal to (==): Checks if two operands are equal.\n",
    "    Not equal to (!=): Checks if two operands are not equal.\n",
    "    Greater than (>): Checks if the left operand is greater than the right operand.\n",
    "    Less than (<): Checks if the left operand is less than the right operand.\n",
    "    Greater than or equal to (>=): Checks if the left operand is greater than or equal to the right operand.\n",
    "    Less than or equal to (<=): Checks if the left operand is less than or equal to the right operand."
   ]
  },
  {
   "cell_type": "code",
   "execution_count": null,
   "id": "a190b70d",
   "metadata": {},
   "outputs": [],
   "source": [
    "6. How do you tell the difference between the equal to and assignment operators?\n",
    "   Describe a condition and when you would use one in python.\n",
    "\n",
    "Ans: In Python, the == operator is used for comparison to check if two values are equal,\n",
    "    whereas the = operator is used for assignment to assign a value to a variable.\n",
    "\n",
    "Here's an example to differentiate between the two:\n",
    "\n",
    "python\n",
    "x = 5\n",
    "y = 10\n",
    "result = (x == y)  \n",
    "print(result)  \n",
    "In this case, (x == y) compares the values of x and y and checks if they are equal. \n",
    "It doesn't change the values of x or y, it just checks whether they are the same.\n",
    "\n",
    "\n",
    "a = 15\n",
    "b = a  \n",
    "print(b)\n",
    "Here, b = a assigns the value of a to the variable b. It doesn't check if a and b are equal; instead, \n",
    "it assigns the value of a to b.\n",
    "\n",
    "So, in summary, == is used for comparison to check equality, while = is used for assignment to assign values to variables."
   ]
  },
  {
   "cell_type": "code",
   "execution_count": null,
   "id": "17582ce7",
   "metadata": {},
   "outputs": [],
   "source": [
    "7. Identify the three blocks in this code:\n",
    "spam = 0\n",
    "if spam == 10:\n",
    "print('eggs')\n",
    "if spam > 5:\n",
    "print('bacon')\n",
    "else:\n",
    "print('ham')\n",
    "print('spam')\n",
    "print('spam')\n",
    "\n",
    "Ans: Block 1: Begins after the if spam == 10: statement and contains the line print('eggs'). However, since spam is not equal \n",
    "            to 10 (spam = 0), this block doesn't execute, and it proceeds to the next if statement.\n",
    "     Block 2: Begins after the if spam > 5: statement and contains the line print('bacon').\n",
    "              Since spam is not greater than 5 (spam = 0), this block doesn't execute.\n",
    "     Block 3: Contains the else statement and encompasses the lines print('ham'), print('spam'), and print('spam').\n",
    "\n",
    "This block executes because the condition for the else statement is triggered when the if spam > 5: condition evaluates to False. \n",
    "Therefore, it prints 'ham', 'spam', and 'spam'."
   ]
  },
  {
   "cell_type": "code",
   "execution_count": null,
   "id": "4aa19c3b",
   "metadata": {},
   "outputs": [],
   "source": [
    "8. Write code that prints Hello if 1 is stored in spam, prints Howdy if 2 is stored in spam, and prints\n",
    "Greetings! if anything else is stored in spam."
   ]
  },
  {
   "cell_type": "code",
   "execution_count": null,
   "id": "5b85a9eb",
   "metadata": {},
   "outputs": [],
   "source": [
    "#Ans:\n",
    "spam = int(input(\" Enter any No.\"))\n",
    "if spam == 1 :\n",
    "    print(\"Hello\")\n",
    "elif spam == 2:\n",
    "     print(\"Howdy\")       \n",
    "else:\n",
    "    print(\"Greetings!\")\n",
    "            "
   ]
  },
  {
   "cell_type": "code",
   "execution_count": null,
   "id": "1822478a",
   "metadata": {},
   "outputs": [],
   "source": [
    "9.If your programme is stuck in an endless loop, what keys you’ll press?\n",
    "\n",
    "Ans: In Python, if your program is stuck in an endless loop while running in an interactive environment like IDLE, Jupyter\n",
    "    Notebook, or some Python shells, you can stop the execution by interrupting the kernel or the program itself.\n",
    "    The typical keys to press in such environments are:\n",
    "    Ctrl + C: This keyboard combination interrupts the execution of the current code in many Python environments and terminals. \n",
    "    It raises a KeyboardInterrupt exception, which can help stop the execution of the program."
   ]
  },
  {
   "cell_type": "code",
   "execution_count": null,
   "id": "c4a70ba1",
   "metadata": {},
   "outputs": [],
   "source": [
    "10. How can you tell the difference between break and continue?\n",
    "\n",
    "Ans:  Both \"break\" and \"continue\" are control flow statements in programming languages like Python, C, Java, etc. \n",
    "      They are used to alter the flow of loops (like \"for\" or \"while\") in different ways:\n",
    "      \n",
    "      (1)Break: When encountered within a loop, the \"break\" statement immediately exits the loop. \n",
    "      It breaks out of the loop's current iteration regardless of any condition that might still be valid. \n",
    "      It's commonly used when a certain condition is met and you want to exit the loop entirely.\n",
    "ex1:\n",
    "for i in range(5):\n",
    "    if i == 3:\n",
    "        break\n",
    "    print(i)\n",
    "Output:\n",
    "0\n",
    "1\n",
    "2\n",
    "       (2)Continue: The \"continue\" statement, when encountered, skips the current iteration of the loop and moves on to the \n",
    "       next iteration. It doesn't exit the loop entirely; instead, it skips any remaining code in the loop for the current \n",
    "       iteration and jumps to the next iteration.\n",
    "ex2:\n",
    "for i in range(5):\n",
    "    if i == 3:\n",
    "        continue\n",
    "    print(i)\n",
    "Output:\n",
    "0\n",
    "1\n",
    "2\n",
    "4\n",
    "       In summary, \"break\" is used to exit the loop entirely, while \"continue\" is used to skip the current iteration \n",
    "       and continue with the next iteration of the loop."
   ]
  },
  {
   "cell_type": "code",
   "execution_count": null,
   "id": "f7ac96ae",
   "metadata": {},
   "outputs": [],
   "source": [
    "11. In a for loop, what is the difference between range(10), range(0, 10), and range(0, 10, 1)?\n",
    "\n",
    "Ans: (1) range(10): This generates a sequence of numbers starting from 0 up to, but not including, 10. \n",
    "     It uses the default start value of 0 and steps by 1 by default.\n",
    "\n",
    "ex1:\n",
    "for i in range(10):\n",
    "    print(i)\n",
    "Output:\n",
    "0\n",
    "1\n",
    "2\n",
    "3\n",
    "4\n",
    "5\n",
    "6\n",
    "7\n",
    "8\n",
    "9\n",
    "   (2) range(0, 10): This also generates a sequence of numbers from 0 up to, but not including, 10. \n",
    "    However, it explicitly specifies the start value (0) and doesn't specify a step value, so it defaults to 1.\n",
    "\n",
    "ex2:\n",
    "for i in range(0, 10):\n",
    "    print(i)\n",
    "Output:\n",
    "0\n",
    "1\n",
    "2\n",
    "3\n",
    "4\n",
    "5\n",
    "6\n",
    "7\n",
    "8\n",
    "9\n",
    "    (3)range(0, 10, 1): This generates a sequence of numbers from 0 up to, but not including, 10, specifying both the start \n",
    "        value (0) and the step value (1).\n",
    "\n",
    "ex3:\n",
    "for i in range(0, 10, 1):\n",
    "    print(i)\n",
    "Output:\n",
    "0\n",
    "1\n",
    "2\n",
    "3\n",
    "4\n",
    "5\n",
    "6\n",
    "7\n",
    "8\n",
    "9\n",
    "In summary, for iterating through numbers in a loop using range():\n",
    "\n",
    "range(10), range(0, 10), and range(0, 10, 1) produce the same sequence of numbers from 0 to 9.\n",
    "range(10) is the shortest and most concise way to express this range, utilizing the default start value of 0 and step value of 1.\n",
    "\n",
    "\n",
    "\n",
    "\n"
   ]
  },
  {
   "cell_type": "code",
   "execution_count": null,
   "id": "65c9e526",
   "metadata": {},
   "outputs": [],
   "source": [
    "12. Write a short program that prints the numbers 1 to 10 using a for loop. Then write an equivalent\n",
    "    program that prints the numbers 1 to 10 using a while loop.\n",
    "Ans:"
   ]
  },
  {
   "cell_type": "code",
   "execution_count": 1,
   "id": "e6972ec7",
   "metadata": {},
   "outputs": [
    {
     "name": "stdout",
     "output_type": "stream",
     "text": [
      "1\n",
      "2\n",
      "3\n",
      "4\n",
      "5\n",
      "6\n",
      "7\n",
      "8\n",
      "9\n",
      "10\n"
     ]
    }
   ],
   "source": [
    "for i in range(1,11):\n",
    "    print(i)"
   ]
  },
  {
   "cell_type": "code",
   "execution_count": 2,
   "id": "6329cb94",
   "metadata": {},
   "outputs": [
    {
     "name": "stdout",
     "output_type": "stream",
     "text": [
      "1\n",
      "2\n",
      "3\n",
      "4\n",
      "5\n",
      "6\n",
      "7\n",
      "8\n",
      "9\n",
      "10\n"
     ]
    }
   ],
   "source": [
    "n = 1\n",
    "while n <=10:\n",
    "    print(n)\n",
    "    n+=1\n",
    "    "
   ]
  },
  {
   "cell_type": "code",
   "execution_count": null,
   "id": "910b9cbc",
   "metadata": {},
   "outputs": [],
   "source": [
    "13. If you had a function named bacon() inside a module named spam, how would you call it after\n",
    "    importing spam?\n",
    "\n",
    "Ans: spam.bacon()"
   ]
  }
 ],
 "metadata": {
  "kernelspec": {
   "display_name": "Python 3 (ipykernel)",
   "language": "python",
   "name": "python3"
  },
  "language_info": {
   "codemirror_mode": {
    "name": "ipython",
    "version": 3
   },
   "file_extension": ".py",
   "mimetype": "text/x-python",
   "name": "python",
   "nbconvert_exporter": "python",
   "pygments_lexer": "ipython3",
   "version": "3.11.5"
  }
 },
 "nbformat": 4,
 "nbformat_minor": 5
}
