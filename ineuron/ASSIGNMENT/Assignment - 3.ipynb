{
 "cells": [
  {
   "cell_type": "code",
   "execution_count": null,
   "id": "aa100125",
   "metadata": {},
   "outputs": [],
   "source": [
    "1. Why are functions advantageous to have in your programs?\n",
    "\n",
    "Ans:Python, as in any programming language, serve as fundamental building blocks that improve code readability, reusability, \n",
    "    and maintainability while supporting the principles of good software design."
   ]
  },
  {
   "cell_type": "code",
   "execution_count": null,
   "id": "ea5c4b83",
   "metadata": {},
   "outputs": [],
   "source": [
    "2. When does the code in a function run: when it's specified or when it's called?\n",
    "\n",
    "Ans: Defining a function in Python doesn't execute the code inside it. It merely creates a named block of code that will be \n",
    "     executed when the function is called elsewhere in the program. The function's code runs only when the function is explicitly \n",
    "     invoked or called using its name followed by parentheses ().    "
   ]
  },
  {
   "cell_type": "code",
   "execution_count": null,
   "id": "4eead6a2",
   "metadata": {},
   "outputs": [],
   "source": [
    "3. What statement creates a function?\n",
    "\n",
    "Ans: In Python, the def statement is used to create a function. This keyword is followed by the function name and a set of \n",
    "     parentheses containing optional parameters, if any, and a colon :"
   ]
  },
  {
   "cell_type": "code",
   "execution_count": null,
   "id": "13fabeb1",
   "metadata": {},
   "outputs": [],
   "source": [
    "4. What is the difference between a function and a function call?\n",
    "\n",
    "Ans: Function: A function is a named block of code that performs a specific task when invoked or called. It's defined using the \n",
    "     def keyword in Python and contains a set of instructions to execute when it's called. Functions can accept parameters \n",
    "    (inputs) and may return a result (output).\n",
    "\n",
    "    Function Call: A function call or invocation is the act of using the function in your code to execute the block of code \n",
    "    defined within that function. When you call a function, you're instructing the program to execute the code inside that \n",
    "    function with specific arguments (if the function takes parameters)."
   ]
  },
  {
   "cell_type": "code",
   "execution_count": null,
   "id": "230daddb",
   "metadata": {},
   "outputs": [],
   "source": [
    "5. How many global scopes are there in a Python program? How many local scopes?\n",
    "\n",
    "Ans: One global scope exists for the entire Python program.\n",
    "     Multiple local scopes can exist, with each function call creating its own local scope."
   ]
  },
  {
   "cell_type": "code",
   "execution_count": null,
   "id": "326dc0d8",
   "metadata": {},
   "outputs": [],
   "source": [
    "6. What happens to variables in a local scope when the function call returns?\n",
    "Ans: When a function call returns, the local scope associated with that function is destroyed. Any variables that were defined \n",
    "     within that function's scope cease to exist after the function call completes and returns a value (if it's designed to do so).\n",
    "     Variables defined within the local scope of a function are temporary and are only accessible within that function's execution \n",
    "     context. Once the function finishes its task and returns, all the local variables within that function are destroyed, and the \n",
    "     memory allocated to them is freed up. These variables cannot be accessed from outside the function.\n",
    "     Attempting to access a local variable from outside its function's scope or after the function has returned will result in an \n",
    "     error or undefined behavior, as the variable no longer exists in memory."
   ]
  },
  {
   "cell_type": "code",
   "execution_count": null,
   "id": "9b42321f",
   "metadata": {},
   "outputs": [],
   "source": [
    "7. What is the concept of a return value? Is it possible to have a return value in an expression?\n",
    "\n",
    "Ans: Yes, it's possible to use the return value of a function directly within an expression. You can assign it to a variable, \n",
    "     use it as an argument for another function, or perform operations directly on the returned value within an expression. \n",
    "ex:\n",
    "    def add_numbers(a, b):\n",
    "    result = a + b\n",
    "    return result\n",
    "\n",
    "total = add_numbers(5, add_numbers(2, 3))  # Using the return values in an expression\n",
    "print(total)"
   ]
  },
  {
   "cell_type": "code",
   "execution_count": null,
   "id": "be0a4e84",
   "metadata": {},
   "outputs": [],
   "source": [
    "8. If a function does not have a return statement, what is the return value of a call to that function?\n",
    "\n",
    "Ans:In Python, if a function does not have a return statement or if it reaches the end of the function body without encountering \n",
    "    a return statement, the function call will return None."
   ]
  },
  {
   "cell_type": "code",
   "execution_count": null,
   "id": "c6537389",
   "metadata": {},
   "outputs": [],
   "source": [
    "9. How do you make a function variable refer to the global variable?\n",
    "\n",
    "Ans: To make a function variable refer to the global variable with the same name, you can use the global keyword within the \n",
    "    function. This informs Python that the variable being referred to within the function is the global variable with that name, \n",
    "    rather than creating a new local variable"
   ]
  },
  {
   "cell_type": "code",
   "execution_count": null,
   "id": "5aa2d825",
   "metadata": {},
   "outputs": [],
   "source": [
    "10. What is the data type of None?\n",
    "\n",
    "Ans: In Python, None is a special constant that represents the absence of a value or a null value. It is a unique object of the \n",
    "     NoneType type. None itself is the only instance of this NoneType object."
   ]
  },
  {
   "cell_type": "code",
   "execution_count": null,
   "id": "d99bec7f",
   "metadata": {},
   "outputs": [],
   "source": [
    "11. What does the sentence import areallyourpetsnamederic do?\n",
    "\n",
    "Ans: The sentence \"import areallyourpetsnamederic\" by itself, if executed in Python, attempts to import a module named \n",
    "    \"areallyourpetsnamederic\". If such a module exists in the Python environment, it will be imported.\n",
    "     However, it's important to note that typically, Python modules are named sensibly to describe their purpose or functionality. \n",
    "     The sentence \"import areallyourpetsnamederic\" seems whimsical and doesn't correspond to a standard or known Python module. \n",
    "     Python allows you to name modules in various ways, but using such unconventional and non-descriptive names is not recommended \n",
    "     for practical programming.\n",
    "     If a module named \"areallyourpetsnamederic\" doesn't exist in the Python environment, attempting to import it will result in \n",
    "     a ModuleNotFoundError."
   ]
  },
  {
   "cell_type": "code",
   "execution_count": null,
   "id": "c9e5b8bf",
   "metadata": {},
   "outputs": [],
   "source": [
    "12. If you had a bacon() feature in a spam module, what would you call it after importing spam?\n",
    "\n",
    "Ans: If you've imported the spam module and it contains a function named bacon(), you can call the bacon() function by using the\n",
    "     dot notation along with the module name "
   ]
  },
  {
   "cell_type": "code",
   "execution_count": null,
   "id": "0b376b00",
   "metadata": {},
   "outputs": [],
   "source": [
    "13. What can you do to save a programme from crashing if it encounters an error?\n",
    "\n",
    "Ans: To prevent a program from crashing when it encounters an error, you can implement error handling using exception handling \n",
    "     mechanisms in Python. The primary tool for handling exceptions is the try...except block. Here's a basic structure"
   ]
  },
  {
   "cell_type": "code",
   "execution_count": null,
   "id": "c255a338",
   "metadata": {},
   "outputs": [],
   "source": [
    "14. What is the purpose of the try clause? What is the purpose of the except clause?\n",
    "\n",
    "Ans: The primary purpose of the try clause is to segregate code that may raise an exception. If an exception occurs within this \n",
    "    block, the program doesn't crash immediately. Instead, it moves to the corresponding except block(s) for handling the raised \n",
    "    exception.\n",
    "    The except clause, which follows a try block, is used to specify the code that should execute if a particular type of \n",
    "    exception \n",
    "    occurs within the preceding try block. It catches and handles exceptions that match the specified type(s) or general \n",
    "    exceptions if a more generic except block is used."
   ]
  },
  {
   "cell_type": "code",
   "execution_count": null,
   "id": "c0eef523",
   "metadata": {},
   "outputs": [],
   "source": []
  }
 ],
 "metadata": {
  "kernelspec": {
   "display_name": "Python 3 (ipykernel)",
   "language": "python",
   "name": "python3"
  },
  "language_info": {
   "codemirror_mode": {
    "name": "ipython",
    "version": 3
   },
   "file_extension": ".py",
   "mimetype": "text/x-python",
   "name": "python",
   "nbconvert_exporter": "python",
   "pygments_lexer": "ipython3",
   "version": "3.11.5"
  }
 },
 "nbformat": 4,
 "nbformat_minor": 5
}
