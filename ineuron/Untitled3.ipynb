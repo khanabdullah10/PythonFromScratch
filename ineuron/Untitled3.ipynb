{
 "cells": [
  {
   "cell_type": "code",
   "execution_count": null,
   "id": "b857b081",
   "metadata": {},
   "outputs": [],
   "source": [
    " if selected_user == \"Overall\":\n",
    "        total_messages = df.shape[0]\n",
    "        total_words = []\n",
    "        for i in df['message']:\n",
    "            total_words.extend(i.split())\n",
    "        num_media = df[df['message']== '<Media omitted>/n'].shape\n",
    "\n",
    "\n",
    "        return total_messages,len(total_words),num_media\n",
    "    else:\n",
    "        individual_df = df[df['user']== selected_user]\n",
    "        total_messages = df.shape[0]\n",
    "        total_words = []\n",
    "        for i in individual_df['message']:\n",
    "            total_words.extend(i.split())\n",
    "        num_media = df[df['message'] == '<Media omitted>\\n'].shape\n",
    "        return total_messages,len(total_words),num_media"
   ]
  }
 ],
 "metadata": {
  "kernelspec": {
   "display_name": "Python 3 (ipykernel)",
   "language": "python",
   "name": "python3"
  },
  "language_info": {
   "codemirror_mode": {
    "name": "ipython",
    "version": 3
   },
   "file_extension": ".py",
   "mimetype": "text/x-python",
   "name": "python",
   "nbconvert_exporter": "python",
   "pygments_lexer": "ipython3",
   "version": "3.11.5"
  }
 },
 "nbformat": 4,
 "nbformat_minor": 5
}
