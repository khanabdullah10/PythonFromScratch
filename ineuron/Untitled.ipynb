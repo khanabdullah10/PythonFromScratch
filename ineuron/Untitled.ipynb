{
 "cells": [
  {
   "cell_type": "code",
   "execution_count": 1,
   "id": "02305c9a",
   "metadata": {},
   "outputs": [
    {
     "name": "stdout",
     "output_type": "stream",
     "text": [
      " Volume in drive C is OS\n",
      " Volume Serial Number is 5C8B-CE85\n",
      "\n",
      " Directory of C:\\Users\\khana\n",
      "\n",
      "08-11-2023  07:58    <DIR>          .\n",
      "07-11-2023  14:50    <DIR>          ..\n",
      "07-11-2023  15:46    <DIR>          .anaconda\n",
      "07-11-2023  15:46    <DIR>          .conda\n",
      "07-11-2023  15:47                25 .condarc\n",
      "07-11-2023  15:46    <DIR>          .continuum\n",
      "08-11-2023  07:58    <DIR>          .ipynb_checkpoints\n",
      "07-11-2023  15:49    <DIR>          .ipython\n",
      "07-11-2023  15:47    <DIR>          .jupyter\n",
      "07-11-2023  00:34    <DIR>          .vscode\n",
      "07-11-2023  00:50             6,912 -1.14-windows.xml\n",
      "07-11-2023  15:46    <DIR>          anaconda3\n",
      "07-11-2023  12:02    <DIR>          Contacts\n",
      "08-11-2023  07:39    <DIR>          Desktop\n",
      "08-11-2023  07:45    <DIR>          Documents\n",
      "08-11-2023  07:56    <DIR>          Downloads\n",
      "07-11-2023  12:02    <DIR>          Favorites\n",
      "08-11-2023  07:57    <DIR>          ineuron\n",
      "07-11-2023  12:02    <DIR>          Links\n",
      "07-11-2023  12:02    <DIR>          Music\n",
      "08-11-2023  07:12    <DIR>          OneDrive\n",
      "07-11-2023  13:50    <DIR>          Pictures\n",
      "07-11-2023  10:24    <DIR>          Programs\n",
      "08-11-2023  07:54               313 samle.csv\n",
      "07-11-2023  12:02    <DIR>          Saved Games\n",
      "07-11-2023  12:13    <DIR>          Searches\n",
      "08-11-2023  07:58                72 Untitled.ipynb\n",
      "07-11-2023  00:58    <DIR>          Videos\n",
      "               4 File(s)          7,322 bytes\n",
      "              24 Dir(s)  427,818,962,944 bytes free\n"
     ]
    }
   ],
   "source": [
    "ls"
   ]
  },
  {
   "cell_type": "code",
   "execution_count": 2,
   "id": "5a33c922",
   "metadata": {},
   "outputs": [],
   "source": [
    "import pandas as  pd"
   ]
  },
  {
   "cell_type": "code",
   "execution_count": 3,
   "id": "7d1cb6e7",
   "metadata": {},
   "outputs": [
    {
     "data": {
      "text/html": [
       "<div>\n",
       "<style scoped>\n",
       "    .dataframe tbody tr th:only-of-type {\n",
       "        vertical-align: middle;\n",
       "    }\n",
       "\n",
       "    .dataframe tbody tr th {\n",
       "        vertical-align: top;\n",
       "    }\n",
       "\n",
       "    .dataframe thead th {\n",
       "        text-align: right;\n",
       "    }\n",
       "</style>\n",
       "<table border=\"1\" class=\"dataframe\">\n",
       "  <thead>\n",
       "    <tr style=\"text-align: right;\">\n",
       "      <th></th>\n",
       "      <th>Name</th>\n",
       "      <th>Surname</th>\n",
       "      <th>Email_ID</th>\n",
       "      <th>Address</th>\n",
       "      <th>Pincode</th>\n",
       "    </tr>\n",
       "  </thead>\n",
       "  <tbody>\n",
       "    <tr>\n",
       "      <th>0</th>\n",
       "      <td>Abdullah</td>\n",
       "      <td>Khan</td>\n",
       "      <td>khanabdulla7862@gmail.com</td>\n",
       "      <td>Mumbai</td>\n",
       "      <td>400102</td>\n",
       "    </tr>\n",
       "    <tr>\n",
       "      <th>1</th>\n",
       "      <td>Chand</td>\n",
       "      <td>Salmani</td>\n",
       "      <td>chandsalmani7838@gmail.com</td>\n",
       "      <td>Ghaziabaad</td>\n",
       "      <td>201015</td>\n",
       "    </tr>\n",
       "    <tr>\n",
       "      <th>2</th>\n",
       "      <td>Amaan</td>\n",
       "      <td>khan</td>\n",
       "      <td>amaankhan9082@gmail.com</td>\n",
       "      <td>Mumbai</td>\n",
       "      <td>400102</td>\n",
       "    </tr>\n",
       "    <tr>\n",
       "      <th>3</th>\n",
       "      <td>Qasim</td>\n",
       "      <td>khan</td>\n",
       "      <td>mdqasim78@gmail.comm</td>\n",
       "      <td>Ghaziabaad</td>\n",
       "      <td>201015</td>\n",
       "    </tr>\n",
       "    <tr>\n",
       "      <th>4</th>\n",
       "      <td>Asad</td>\n",
       "      <td>Salamni</td>\n",
       "      <td>salmaniasad@62@gmail.com</td>\n",
       "      <td>Ghaziabaad</td>\n",
       "      <td>201015</td>\n",
       "    </tr>\n",
       "  </tbody>\n",
       "</table>\n",
       "</div>"
      ],
      "text/plain": [
       "      Name   Surname                    Email_ID     Address  Pincode\n",
       "0  Abdullah     Khan   khanabdulla7862@gmail.com      Mumbai   400102\n",
       "1     Chand  Salmani  chandsalmani7838@gmail.com  Ghaziabaad   201015\n",
       "2     Amaan     khan     amaankhan9082@gmail.com      Mumbai   400102\n",
       "3     Qasim     khan        mdqasim78@gmail.comm  Ghaziabaad   201015\n",
       "4      Asad  Salamni    salmaniasad@62@gmail.com  Ghaziabaad   201015"
      ]
     },
     "execution_count": 3,
     "metadata": {},
     "output_type": "execute_result"
    }
   ],
   "source": [
    "pd.read_csv('samle.csv')"
   ]
  },
  {
   "cell_type": "code",
   "execution_count": 4,
   "id": "ea597302",
   "metadata": {},
   "outputs": [
    {
     "data": {
      "text/html": [
       "<div>\n",
       "<style scoped>\n",
       "    .dataframe tbody tr th:only-of-type {\n",
       "        vertical-align: middle;\n",
       "    }\n",
       "\n",
       "    .dataframe tbody tr th {\n",
       "        vertical-align: top;\n",
       "    }\n",
       "\n",
       "    .dataframe thead th {\n",
       "        text-align: right;\n",
       "    }\n",
       "</style>\n",
       "<table border=\"1\" class=\"dataframe\">\n",
       "  <thead>\n",
       "    <tr style=\"text-align: right;\">\n",
       "      <th></th>\n",
       "      <th>0</th>\n",
       "      <th>1</th>\n",
       "      <th>2</th>\n",
       "      <th>3</th>\n",
       "      <th>4</th>\n",
       "    </tr>\n",
       "  </thead>\n",
       "  <tbody>\n",
       "    <tr>\n",
       "      <th>0</th>\n",
       "      <td>Name</td>\n",
       "      <td>Surname</td>\n",
       "      <td>Email_ID</td>\n",
       "      <td>Address</td>\n",
       "      <td>Pincode</td>\n",
       "    </tr>\n",
       "    <tr>\n",
       "      <th>1</th>\n",
       "      <td>Abdullah</td>\n",
       "      <td>Khan</td>\n",
       "      <td>khanabdulla7862@gmail.com</td>\n",
       "      <td>Mumbai</td>\n",
       "      <td>400102</td>\n",
       "    </tr>\n",
       "    <tr>\n",
       "      <th>2</th>\n",
       "      <td>Chand</td>\n",
       "      <td>Salmani</td>\n",
       "      <td>chandsalmani7838@gmail.com</td>\n",
       "      <td>Ghaziabaad</td>\n",
       "      <td>201015</td>\n",
       "    </tr>\n",
       "    <tr>\n",
       "      <th>3</th>\n",
       "      <td>Amaan</td>\n",
       "      <td>khan</td>\n",
       "      <td>amaankhan9082@gmail.com</td>\n",
       "      <td>Mumbai</td>\n",
       "      <td>400102</td>\n",
       "    </tr>\n",
       "    <tr>\n",
       "      <th>4</th>\n",
       "      <td>Qasim</td>\n",
       "      <td>khan</td>\n",
       "      <td>mdqasim78@gmail.comm</td>\n",
       "      <td>Ghaziabaad</td>\n",
       "      <td>201015</td>\n",
       "    </tr>\n",
       "    <tr>\n",
       "      <th>5</th>\n",
       "      <td>Asad</td>\n",
       "      <td>Salamni</td>\n",
       "      <td>salmaniasad@62@gmail.com</td>\n",
       "      <td>Ghaziabaad</td>\n",
       "      <td>201015</td>\n",
       "    </tr>\n",
       "  </tbody>\n",
       "</table>\n",
       "</div>"
      ],
      "text/plain": [
       "          0        1                           2           3        4\n",
       "0     Name   Surname                    Email_ID     Address  Pincode\n",
       "1  Abdullah     Khan   khanabdulla7862@gmail.com      Mumbai   400102\n",
       "2     Chand  Salmani  chandsalmani7838@gmail.com  Ghaziabaad   201015\n",
       "3     Amaan     khan     amaankhan9082@gmail.com      Mumbai   400102\n",
       "4     Qasim     khan        mdqasim78@gmail.comm  Ghaziabaad   201015\n",
       "5      Asad  Salamni    salmaniasad@62@gmail.com  Ghaziabaad   201015"
      ]
     },
     "execution_count": 4,
     "metadata": {},
     "output_type": "execute_result"
    }
   ],
   "source": [
    "pd.read_csv('samle.csv',header = None)"
   ]
  },
  {
   "cell_type": "code",
   "execution_count": 6,
   "id": "b7adbf85",
   "metadata": {},
   "outputs": [
    {
     "data": {
      "text/html": [
       "<div>\n",
       "<style scoped>\n",
       "    .dataframe tbody tr th:only-of-type {\n",
       "        vertical-align: middle;\n",
       "    }\n",
       "\n",
       "    .dataframe tbody tr th {\n",
       "        vertical-align: top;\n",
       "    }\n",
       "\n",
       "    .dataframe thead th {\n",
       "        text-align: right;\n",
       "    }\n",
       "</style>\n",
       "<table border=\"1\" class=\"dataframe\">\n",
       "  <thead>\n",
       "    <tr style=\"text-align: right;\">\n",
       "      <th></th>\n",
       "      <th>a</th>\n",
       "      <th>b</th>\n",
       "      <th>c</th>\n",
       "      <th>d</th>\n",
       "      <th>e</th>\n",
       "    </tr>\n",
       "  </thead>\n",
       "  <tbody>\n",
       "    <tr>\n",
       "      <th>0</th>\n",
       "      <td>Name</td>\n",
       "      <td>Surname</td>\n",
       "      <td>Email_ID</td>\n",
       "      <td>Address</td>\n",
       "      <td>Pincode</td>\n",
       "    </tr>\n",
       "    <tr>\n",
       "      <th>1</th>\n",
       "      <td>Abdullah</td>\n",
       "      <td>Khan</td>\n",
       "      <td>khanabdulla7862@gmail.com</td>\n",
       "      <td>Mumbai</td>\n",
       "      <td>400102</td>\n",
       "    </tr>\n",
       "    <tr>\n",
       "      <th>2</th>\n",
       "      <td>Chand</td>\n",
       "      <td>Salmani</td>\n",
       "      <td>chandsalmani7838@gmail.com</td>\n",
       "      <td>Ghaziabaad</td>\n",
       "      <td>201015</td>\n",
       "    </tr>\n",
       "    <tr>\n",
       "      <th>3</th>\n",
       "      <td>Amaan</td>\n",
       "      <td>khan</td>\n",
       "      <td>amaankhan9082@gmail.com</td>\n",
       "      <td>Mumbai</td>\n",
       "      <td>400102</td>\n",
       "    </tr>\n",
       "    <tr>\n",
       "      <th>4</th>\n",
       "      <td>Qasim</td>\n",
       "      <td>khan</td>\n",
       "      <td>mdqasim78@gmail.comm</td>\n",
       "      <td>Ghaziabaad</td>\n",
       "      <td>201015</td>\n",
       "    </tr>\n",
       "    <tr>\n",
       "      <th>5</th>\n",
       "      <td>Asad</td>\n",
       "      <td>Salamni</td>\n",
       "      <td>salmaniasad@62@gmail.com</td>\n",
       "      <td>Ghaziabaad</td>\n",
       "      <td>201015</td>\n",
       "    </tr>\n",
       "  </tbody>\n",
       "</table>\n",
       "</div>"
      ],
      "text/plain": [
       "          a        b                           c           d        e\n",
       "0     Name   Surname                    Email_ID     Address  Pincode\n",
       "1  Abdullah     Khan   khanabdulla7862@gmail.com      Mumbai   400102\n",
       "2     Chand  Salmani  chandsalmani7838@gmail.com  Ghaziabaad   201015\n",
       "3     Amaan     khan     amaankhan9082@gmail.com      Mumbai   400102\n",
       "4     Qasim     khan        mdqasim78@gmail.comm  Ghaziabaad   201015\n",
       "5      Asad  Salamni    salmaniasad@62@gmail.com  Ghaziabaad   201015"
      ]
     },
     "execution_count": 6,
     "metadata": {},
     "output_type": "execute_result"
    }
   ],
   "source": [
    "pd.read_csv('samle.csv', names = ['a','b','c','d','e'])"
   ]
  },
  {
   "cell_type": "code",
   "execution_count": 7,
   "id": "bbd33bf6",
   "metadata": {},
   "outputs": [
    {
     "data": {
      "text/html": [
       "<div>\n",
       "<style scoped>\n",
       "    .dataframe tbody tr th:only-of-type {\n",
       "        vertical-align: middle;\n",
       "    }\n",
       "\n",
       "    .dataframe tbody tr th {\n",
       "        vertical-align: top;\n",
       "    }\n",
       "\n",
       "    .dataframe thead th {\n",
       "        text-align: right;\n",
       "    }\n",
       "</style>\n",
       "<table border=\"1\" class=\"dataframe\">\n",
       "  <thead>\n",
       "    <tr style=\"text-align: right;\">\n",
       "      <th></th>\n",
       "      <th>a</th>\n",
       "      <th>b</th>\n",
       "      <th>c</th>\n",
       "      <th>d</th>\n",
       "      <th>e</th>\n",
       "      <th>f</th>\n",
       "    </tr>\n",
       "  </thead>\n",
       "  <tbody>\n",
       "    <tr>\n",
       "      <th>0</th>\n",
       "      <td>Name</td>\n",
       "      <td>Surname</td>\n",
       "      <td>Email_ID</td>\n",
       "      <td>Address</td>\n",
       "      <td>Pincode</td>\n",
       "      <td>NaN</td>\n",
       "    </tr>\n",
       "    <tr>\n",
       "      <th>1</th>\n",
       "      <td>Abdullah</td>\n",
       "      <td>Khan</td>\n",
       "      <td>khanabdulla7862@gmail.com</td>\n",
       "      <td>Mumbai</td>\n",
       "      <td>400102</td>\n",
       "      <td>NaN</td>\n",
       "    </tr>\n",
       "    <tr>\n",
       "      <th>2</th>\n",
       "      <td>Chand</td>\n",
       "      <td>Salmani</td>\n",
       "      <td>chandsalmani7838@gmail.com</td>\n",
       "      <td>Ghaziabaad</td>\n",
       "      <td>201015</td>\n",
       "      <td>NaN</td>\n",
       "    </tr>\n",
       "    <tr>\n",
       "      <th>3</th>\n",
       "      <td>Amaan</td>\n",
       "      <td>khan</td>\n",
       "      <td>amaankhan9082@gmail.com</td>\n",
       "      <td>Mumbai</td>\n",
       "      <td>400102</td>\n",
       "      <td>NaN</td>\n",
       "    </tr>\n",
       "    <tr>\n",
       "      <th>4</th>\n",
       "      <td>Qasim</td>\n",
       "      <td>khan</td>\n",
       "      <td>mdqasim78@gmail.comm</td>\n",
       "      <td>Ghaziabaad</td>\n",
       "      <td>201015</td>\n",
       "      <td>NaN</td>\n",
       "    </tr>\n",
       "    <tr>\n",
       "      <th>5</th>\n",
       "      <td>Asad</td>\n",
       "      <td>Salamni</td>\n",
       "      <td>salmaniasad@62@gmail.com</td>\n",
       "      <td>Ghaziabaad</td>\n",
       "      <td>201015</td>\n",
       "      <td>NaN</td>\n",
       "    </tr>\n",
       "  </tbody>\n",
       "</table>\n",
       "</div>"
      ],
      "text/plain": [
       "          a        b                           c           d        e   f\n",
       "0     Name   Surname                    Email_ID     Address  Pincode NaN\n",
       "1  Abdullah     Khan   khanabdulla7862@gmail.com      Mumbai   400102 NaN\n",
       "2     Chand  Salmani  chandsalmani7838@gmail.com  Ghaziabaad   201015 NaN\n",
       "3     Amaan     khan     amaankhan9082@gmail.com      Mumbai   400102 NaN\n",
       "4     Qasim     khan        mdqasim78@gmail.comm  Ghaziabaad   201015 NaN\n",
       "5      Asad  Salamni    salmaniasad@62@gmail.com  Ghaziabaad   201015 NaN"
      ]
     },
     "execution_count": 7,
     "metadata": {},
     "output_type": "execute_result"
    }
   ],
   "source": [
    "pd.read_csv('samle.csv', names = ['a','b','c','d','e','f'])\n",
    "#NaN- not a number"
   ]
  },
  {
   "cell_type": "code",
   "execution_count": 8,
   "id": "df707391",
   "metadata": {},
   "outputs": [
    {
     "data": {
      "text/plain": [
       "module"
      ]
     },
     "execution_count": 8,
     "metadata": {},
     "output_type": "execute_result"
    }
   ],
   "source": [
    "type(pd)"
   ]
  },
  {
   "cell_type": "code",
   "execution_count": 9,
   "id": "9c03430f",
   "metadata": {},
   "outputs": [],
   "source": [
    "df = pd.read_csv('samle.csv')"
   ]
  },
  {
   "cell_type": "code",
   "execution_count": 10,
   "id": "186a7e9a",
   "metadata": {},
   "outputs": [
    {
     "data": {
      "text/plain": [
       "pandas.core.frame.DataFrame"
      ]
     },
     "execution_count": 10,
     "metadata": {},
     "output_type": "execute_result"
    }
   ],
   "source": [
    "type(df)"
   ]
  },
  {
   "cell_type": "code",
   "execution_count": 12,
   "id": "d1a4c5e9",
   "metadata": {},
   "outputs": [
    {
     "data": {
      "text/plain": [
       "Name        object\n",
       "Surname     object\n",
       "Email_ID    object\n",
       "Address     object\n",
       "Pincode      int64\n",
       "dtype: object"
      ]
     },
     "execution_count": 12,
     "metadata": {},
     "output_type": "execute_result"
    }
   ],
   "source": [
    "df.dtypes"
   ]
  },
  {
   "cell_type": "code",
   "execution_count": 13,
   "id": "f5cbc942",
   "metadata": {},
   "outputs": [
    {
     "data": {
      "text/html": [
       "<div>\n",
       "<style scoped>\n",
       "    .dataframe tbody tr th:only-of-type {\n",
       "        vertical-align: middle;\n",
       "    }\n",
       "\n",
       "    .dataframe tbody tr th {\n",
       "        vertical-align: top;\n",
       "    }\n",
       "\n",
       "    .dataframe thead th {\n",
       "        text-align: right;\n",
       "    }\n",
       "</style>\n",
       "<table border=\"1\" class=\"dataframe\">\n",
       "  <thead>\n",
       "    <tr style=\"text-align: right;\">\n",
       "      <th></th>\n",
       "      <th>Name</th>\n",
       "      <th>Surname</th>\n",
       "      <th>Email_ID</th>\n",
       "      <th>Address</th>\n",
       "      <th>Pincode</th>\n",
       "    </tr>\n",
       "  </thead>\n",
       "  <tbody>\n",
       "    <tr>\n",
       "      <th>0</th>\n",
       "      <td>Abdullah</td>\n",
       "      <td>Khan</td>\n",
       "      <td>khanabdulla7862@gmail.com</td>\n",
       "      <td>Mumbai</td>\n",
       "      <td>400102</td>\n",
       "    </tr>\n",
       "    <tr>\n",
       "      <th>1</th>\n",
       "      <td>Chand</td>\n",
       "      <td>Salmani</td>\n",
       "      <td>chandsalmani7838@gmail.com</td>\n",
       "      <td>Ghaziabaad</td>\n",
       "      <td>201015</td>\n",
       "    </tr>\n",
       "    <tr>\n",
       "      <th>2</th>\n",
       "      <td>Amaan</td>\n",
       "      <td>khan</td>\n",
       "      <td>amaankhan9082@gmail.com</td>\n",
       "      <td>Mumbai</td>\n",
       "      <td>400102</td>\n",
       "    </tr>\n",
       "    <tr>\n",
       "      <th>3</th>\n",
       "      <td>Qasim</td>\n",
       "      <td>khan</td>\n",
       "      <td>mdqasim78@gmail.comm</td>\n",
       "      <td>Ghaziabaad</td>\n",
       "      <td>201015</td>\n",
       "    </tr>\n",
       "    <tr>\n",
       "      <th>4</th>\n",
       "      <td>Asad</td>\n",
       "      <td>Salamni</td>\n",
       "      <td>salmaniasad@62@gmail.com</td>\n",
       "      <td>Ghaziabaad</td>\n",
       "      <td>201015</td>\n",
       "    </tr>\n",
       "  </tbody>\n",
       "</table>\n",
       "</div>"
      ],
      "text/plain": [
       "      Name   Surname                    Email_ID     Address  Pincode\n",
       "0  Abdullah     Khan   khanabdulla7862@gmail.com      Mumbai   400102\n",
       "1     Chand  Salmani  chandsalmani7838@gmail.com  Ghaziabaad   201015\n",
       "2     Amaan     khan     amaankhan9082@gmail.com      Mumbai   400102\n",
       "3     Qasim     khan        mdqasim78@gmail.comm  Ghaziabaad   201015\n",
       "4      Asad  Salamni    salmaniasad@62@gmail.com  Ghaziabaad   201015"
      ]
     },
     "execution_count": 13,
     "metadata": {},
     "output_type": "execute_result"
    }
   ],
   "source": [
    "df.head()"
   ]
  },
  {
   "cell_type": "code",
   "execution_count": 14,
   "id": "17fe04ad",
   "metadata": {},
   "outputs": [
    {
     "data": {
      "text/html": [
       "<div>\n",
       "<style scoped>\n",
       "    .dataframe tbody tr th:only-of-type {\n",
       "        vertical-align: middle;\n",
       "    }\n",
       "\n",
       "    .dataframe tbody tr th {\n",
       "        vertical-align: top;\n",
       "    }\n",
       "\n",
       "    .dataframe thead th {\n",
       "        text-align: right;\n",
       "    }\n",
       "</style>\n",
       "<table border=\"1\" class=\"dataframe\">\n",
       "  <thead>\n",
       "    <tr style=\"text-align: right;\">\n",
       "      <th></th>\n",
       "      <th>Name</th>\n",
       "      <th>Surname</th>\n",
       "      <th>Email_ID</th>\n",
       "      <th>Address</th>\n",
       "      <th>Pincode</th>\n",
       "    </tr>\n",
       "  </thead>\n",
       "  <tbody>\n",
       "    <tr>\n",
       "      <th>0</th>\n",
       "      <td>Abdullah</td>\n",
       "      <td>Khan</td>\n",
       "      <td>khanabdulla7862@gmail.com</td>\n",
       "      <td>Mumbai</td>\n",
       "      <td>400102</td>\n",
       "    </tr>\n",
       "    <tr>\n",
       "      <th>1</th>\n",
       "      <td>Chand</td>\n",
       "      <td>Salmani</td>\n",
       "      <td>chandsalmani7838@gmail.com</td>\n",
       "      <td>Ghaziabaad</td>\n",
       "      <td>201015</td>\n",
       "    </tr>\n",
       "  </tbody>\n",
       "</table>\n",
       "</div>"
      ],
      "text/plain": [
       "      Name   Surname                    Email_ID     Address  Pincode\n",
       "0  Abdullah     Khan   khanabdulla7862@gmail.com      Mumbai   400102\n",
       "1     Chand  Salmani  chandsalmani7838@gmail.com  Ghaziabaad   201015"
      ]
     },
     "execution_count": 14,
     "metadata": {},
     "output_type": "execute_result"
    }
   ],
   "source": [
    "df.head(2)"
   ]
  },
  {
   "cell_type": "code",
   "execution_count": 15,
   "id": "90b1c0ad",
   "metadata": {},
   "outputs": [
    {
     "data": {
      "text/html": [
       "<div>\n",
       "<style scoped>\n",
       "    .dataframe tbody tr th:only-of-type {\n",
       "        vertical-align: middle;\n",
       "    }\n",
       "\n",
       "    .dataframe tbody tr th {\n",
       "        vertical-align: top;\n",
       "    }\n",
       "\n",
       "    .dataframe thead th {\n",
       "        text-align: right;\n",
       "    }\n",
       "</style>\n",
       "<table border=\"1\" class=\"dataframe\">\n",
       "  <thead>\n",
       "    <tr style=\"text-align: right;\">\n",
       "      <th></th>\n",
       "      <th>Name</th>\n",
       "      <th>Surname</th>\n",
       "      <th>Email_ID</th>\n",
       "      <th>Address</th>\n",
       "      <th>Pincode</th>\n",
       "    </tr>\n",
       "  </thead>\n",
       "  <tbody>\n",
       "    <tr>\n",
       "      <th>2</th>\n",
       "      <td>Amaan</td>\n",
       "      <td>khan</td>\n",
       "      <td>amaankhan9082@gmail.com</td>\n",
       "      <td>Mumbai</td>\n",
       "      <td>400102</td>\n",
       "    </tr>\n",
       "    <tr>\n",
       "      <th>3</th>\n",
       "      <td>Qasim</td>\n",
       "      <td>khan</td>\n",
       "      <td>mdqasim78@gmail.comm</td>\n",
       "      <td>Ghaziabaad</td>\n",
       "      <td>201015</td>\n",
       "    </tr>\n",
       "    <tr>\n",
       "      <th>4</th>\n",
       "      <td>Asad</td>\n",
       "      <td>Salamni</td>\n",
       "      <td>salmaniasad@62@gmail.com</td>\n",
       "      <td>Ghaziabaad</td>\n",
       "      <td>201015</td>\n",
       "    </tr>\n",
       "  </tbody>\n",
       "</table>\n",
       "</div>"
      ],
      "text/plain": [
       "   Name   Surname                  Email_ID     Address  Pincode\n",
       "2  Amaan     khan   amaankhan9082@gmail.com      Mumbai   400102\n",
       "3  Qasim     khan      mdqasim78@gmail.comm  Ghaziabaad   201015\n",
       "4   Asad  Salamni  salmaniasad@62@gmail.com  Ghaziabaad   201015"
      ]
     },
     "execution_count": 15,
     "metadata": {},
     "output_type": "execute_result"
    }
   ],
   "source": [
    "df.tail(3)"
   ]
  },
  {
   "cell_type": "code",
   "execution_count": 16,
   "id": "d2a06b84",
   "metadata": {},
   "outputs": [
    {
     "data": {
      "text/html": [
       "<div>\n",
       "<style scoped>\n",
       "    .dataframe tbody tr th:only-of-type {\n",
       "        vertical-align: middle;\n",
       "    }\n",
       "\n",
       "    .dataframe tbody tr th {\n",
       "        vertical-align: top;\n",
       "    }\n",
       "\n",
       "    .dataframe thead th {\n",
       "        text-align: right;\n",
       "    }\n",
       "</style>\n",
       "<table border=\"1\" class=\"dataframe\">\n",
       "  <thead>\n",
       "    <tr style=\"text-align: right;\">\n",
       "      <th></th>\n",
       "      <th>Chand</th>\n",
       "      <th>Salmani</th>\n",
       "      <th>chandsalmani7838@gmail.com</th>\n",
       "      <th>Ghaziabaad</th>\n",
       "      <th>201015</th>\n",
       "    </tr>\n",
       "  </thead>\n",
       "  <tbody>\n",
       "    <tr>\n",
       "      <th>0</th>\n",
       "      <td>Amaan</td>\n",
       "      <td>khan</td>\n",
       "      <td>amaankhan9082@gmail.com</td>\n",
       "      <td>Mumbai</td>\n",
       "      <td>400102</td>\n",
       "    </tr>\n",
       "    <tr>\n",
       "      <th>1</th>\n",
       "      <td>Qasim</td>\n",
       "      <td>khan</td>\n",
       "      <td>mdqasim78@gmail.comm</td>\n",
       "      <td>Ghaziabaad</td>\n",
       "      <td>201015</td>\n",
       "    </tr>\n",
       "    <tr>\n",
       "      <th>2</th>\n",
       "      <td>Asad</td>\n",
       "      <td>Salamni</td>\n",
       "      <td>salmaniasad@62@gmail.com</td>\n",
       "      <td>Ghaziabaad</td>\n",
       "      <td>201015</td>\n",
       "    </tr>\n",
       "  </tbody>\n",
       "</table>\n",
       "</div>"
      ],
      "text/plain": [
       "   Chand  Salmani chandsalmani7838@gmail.com  Ghaziabaad  201015\n",
       "0  Amaan     khan    amaankhan9082@gmail.com      Mumbai  400102\n",
       "1  Qasim     khan       mdqasim78@gmail.comm  Ghaziabaad  201015\n",
       "2   Asad  Salamni   salmaniasad@62@gmail.com  Ghaziabaad  201015"
      ]
     },
     "execution_count": 16,
     "metadata": {},
     "output_type": "execute_result"
    }
   ],
   "source": [
    "pd.read_csv('samle.csv',skiprows = [0,1])"
   ]
  },
  {
   "cell_type": "code",
   "execution_count": null,
   "id": "da3798d8",
   "metadata": {},
   "outputs": [],
   "source": [
    "#separtion ~ delimeter\n",
    "pd.read_csv('samle.csv',sep = '@'')"
   ]
  },
  {
   "cell_type": "code",
   "execution_count": 17,
   "id": "70d52f13",
   "metadata": {},
   "outputs": [
    {
     "data": {
      "text/plain": [
       "Index(['Name ', 'Surname', 'Email_ID', 'Address', 'Pincode'], dtype='object')"
      ]
     },
     "execution_count": 17,
     "metadata": {},
     "output_type": "execute_result"
    }
   ],
   "source": [
    "df.columns"
   ]
  },
  {
   "cell_type": "code",
   "execution_count": 19,
   "id": "c1e6b807",
   "metadata": {},
   "outputs": [
    {
     "data": {
      "text/plain": [
       "0     khanabdulla7862@gmail.com\n",
       "1    chandsalmani7838@gmail.com\n",
       "2       amaankhan9082@gmail.com\n",
       "3          mdqasim78@gmail.comm\n",
       "4      salmaniasad@62@gmail.com\n",
       "Name: Email_ID, dtype: object"
      ]
     },
     "execution_count": 19,
     "metadata": {},
     "output_type": "execute_result"
    }
   ],
   "source": [
    "df['Email_ID']"
   ]
  },
  {
   "cell_type": "code",
   "execution_count": 21,
   "id": "cacfa1a6",
   "metadata": {},
   "outputs": [
    {
     "data": {
      "text/plain": [
       "0       Khan\n",
       "1    Salmani\n",
       "2       khan\n",
       "3       khan\n",
       "4    Salamni\n",
       "Name: Surname, dtype: object"
      ]
     },
     "execution_count": 21,
     "metadata": {},
     "output_type": "execute_result"
    }
   ],
   "source": [
    "df['Surname']"
   ]
  },
  {
   "cell_type": "code",
   "execution_count": 22,
   "id": "24c8766e",
   "metadata": {},
   "outputs": [],
   "source": [
    "a = df['Email_ID']"
   ]
  },
  {
   "cell_type": "code",
   "execution_count": 23,
   "id": "8ae821ee",
   "metadata": {},
   "outputs": [
    {
     "data": {
      "text/plain": [
       "pandas.core.series.Series"
      ]
     },
     "execution_count": 23,
     "metadata": {},
     "output_type": "execute_result"
    }
   ],
   "source": [
    "type(a)"
   ]
  },
  {
   "cell_type": "code",
   "execution_count": 24,
   "id": "dfdc7063",
   "metadata": {},
   "outputs": [
    {
     "data": {
      "text/html": [
       "<div>\n",
       "<style scoped>\n",
       "    .dataframe tbody tr th:only-of-type {\n",
       "        vertical-align: middle;\n",
       "    }\n",
       "\n",
       "    .dataframe tbody tr th {\n",
       "        vertical-align: top;\n",
       "    }\n",
       "\n",
       "    .dataframe thead th {\n",
       "        text-align: right;\n",
       "    }\n",
       "</style>\n",
       "<table border=\"1\" class=\"dataframe\">\n",
       "  <thead>\n",
       "    <tr style=\"text-align: right;\">\n",
       "      <th></th>\n",
       "      <th>Address</th>\n",
       "      <th>Pincode</th>\n",
       "    </tr>\n",
       "  </thead>\n",
       "  <tbody>\n",
       "    <tr>\n",
       "      <th>0</th>\n",
       "      <td>Mumbai</td>\n",
       "      <td>400102</td>\n",
       "    </tr>\n",
       "    <tr>\n",
       "      <th>1</th>\n",
       "      <td>Ghaziabaad</td>\n",
       "      <td>201015</td>\n",
       "    </tr>\n",
       "    <tr>\n",
       "      <th>2</th>\n",
       "      <td>Mumbai</td>\n",
       "      <td>400102</td>\n",
       "    </tr>\n",
       "    <tr>\n",
       "      <th>3</th>\n",
       "      <td>Ghaziabaad</td>\n",
       "      <td>201015</td>\n",
       "    </tr>\n",
       "    <tr>\n",
       "      <th>4</th>\n",
       "      <td>Ghaziabaad</td>\n",
       "      <td>201015</td>\n",
       "    </tr>\n",
       "  </tbody>\n",
       "</table>\n",
       "</div>"
      ],
      "text/plain": [
       "      Address  Pincode\n",
       "0      Mumbai   400102\n",
       "1  Ghaziabaad   201015\n",
       "2      Mumbai   400102\n",
       "3  Ghaziabaad   201015\n",
       "4  Ghaziabaad   201015"
      ]
     },
     "execution_count": 24,
     "metadata": {},
     "output_type": "execute_result"
    }
   ],
   "source": [
    "df[['Address','Pincode']]"
   ]
  },
  {
   "cell_type": "code",
   "execution_count": null,
   "id": "04834701",
   "metadata": {},
   "outputs": [],
   "source": []
  }
 ],
 "metadata": {
  "kernelspec": {
   "display_name": "Python 3 (ipykernel)",
   "language": "python",
   "name": "python3"
  },
  "language_info": {
   "codemirror_mode": {
    "name": "ipython",
    "version": 3
   },
   "file_extension": ".py",
   "mimetype": "text/x-python",
   "name": "python",
   "nbconvert_exporter": "python",
   "pygments_lexer": "ipython3",
   "version": "3.11.5"
  }
 },
 "nbformat": 4,
 "nbformat_minor": 5
}
